{
 "cells": [
  {
   "cell_type": "code",
   "execution_count": 3,
   "metadata": {},
   "outputs": [
    {
     "name": "stdout",
     "output_type": "stream",
     "text": [
      "Collecting spotipyNote: you may need to restart the kernel to use updated packages.\n",
      "  Downloading spotipy-2.16.1-py3-none-any.whl (24 kB)\n",
      "Requirement already satisfied, skipping upgrade: six>=1.10.0 in c:\\users\\victor\\anaconda3\\lib\\site-packages (from spotipy) (1.15.0)\n",
      "Requirement already satisfied, skipping upgrade: requests>=2.20.0 in c:\\users\\victor\\anaconda3\\lib\\site-packages (from spotipy) (2.24.0)\n",
      "Requirement already satisfied, skipping upgrade: chardet<4,>=3.0.2 in c:\\users\\victor\\anaconda3\\lib\\site-packages (from requests>=2.20.0->spotipy) (3.0.4)\n",
      "Requirement already satisfied, skipping upgrade: urllib3!=1.25.0,!=1.25.1,<1.26,>=1.21.1 in c:\\users\\victor\\anaconda3\\lib\\site-packages (from requests>=2.20.0->spotipy) (1.25.9)\n",
      "Requirement already satisfied, skipping upgrade: certifi>=2017.4.17 in c:\\users\\victor\\anaconda3\\lib\\site-packages (from requests>=2.20.0->spotipy) (2020.6.20)\n",
      "Requirement already satisfied, skipping upgrade: idna<3,>=2.5 in c:\\users\\victor\\anaconda3\\lib\\site-packages (from requests>=2.20.0->spotipy) (2.10)\n",
      "Installing collected packages: spotipy\n",
      "Successfully installed spotipy-2.16.1\n",
      "\n"
     ]
    }
   ],
   "source": [
    "pip install spotipy --upgrade"
   ]
  },
  {
   "cell_type": "code",
   "execution_count": 1,
   "metadata": {},
   "outputs": [],
   "source": [
    "import requests\n",
    "import base64\n",
    "\n",
    "Client_ID = 'c6d7404e014a4395b773c3b3f4c50d95'\n",
    "Client_Secret = '8004465dd19444eab523311469c7a065' "
   ]
  },
  {
   "cell_type": "code",
   "execution_count": 2,
   "metadata": {},
   "outputs": [
    {
     "name": "stdout",
     "output_type": "stream",
     "text": [
      "{'access_token': 'BQAhLXafX1WhmXYJjKOh3ASjv7h5XQXLseooBBeI01aSVffDFVj5IbXGmRLgIrGxFElPwR_Hs8rxN7Tsa-s', 'token_type': 'Bearer', 'expires_in': 3600, 'scope': ''}\n"
     ]
    }
   ],
   "source": [
    "import base64\n",
    "\n",
    "spotify_url = 'https://accounts.spotify.com/api/token'\n",
    "\n",
    "client_creds = f\"{Client_ID}:{Client_Secret}\"\n",
    "creds_b64 = base64.b64encode(client_creds.encode())\n",
    "\n",
    "body = {'grant_type': 'client_credentials'}\n",
    "header = {'Authorization': f\"Basic {creds_b64.decode()}\"}\n",
    "\n",
    "r = requests.post(spotify_url, data = body, headers=header)\n",
    "print(r.json())"
   ]
  },
  {
   "cell_type": "code",
   "execution_count": 56,
   "metadata": {},
   "outputs": [],
   "source": [
    "import spotipy\n",
    "from spotipy.oauth2 import SpotifyClientCredentials\n",
    "\n",
    "auth_manager = SpotifyClientCredentials(client_id=Client_ID, client_secret=Client_Secret)\n",
    "sp = spotipy.Spotify(auth_manager=auth_manager)\n",
    "\n",
    "re = sp.search(q='seven lions', type='artist')"
   ]
  },
  {
   "cell_type": "code",
   "execution_count": 57,
   "metadata": {},
   "outputs": [
    {
     "data": {
      "text/plain": [
       "{'artists': {'href': 'https://api.spotify.com/v1/search?query=seven+lions&type=artist&offset=0&limit=10',\n",
       "  'items': [{'external_urls': {'spotify': 'https://open.spotify.com/artist/6fcTRFpz0yH79qSKfof7lp'},\n",
       "    'followers': {'href': None, 'total': 377584},\n",
       "    'genres': ['dubstep',\n",
       "     'edm',\n",
       "     'electro house',\n",
       "     'future bass',\n",
       "     'melodic dubstep',\n",
       "     'pop dance',\n",
       "     'pop edm',\n",
       "     'progressive trance'],\n",
       "    'href': 'https://api.spotify.com/v1/artists/6fcTRFpz0yH79qSKfof7lp',\n",
       "    'id': '6fcTRFpz0yH79qSKfof7lp',\n",
       "    'images': [{'height': 640,\n",
       "      'url': 'https://i.scdn.co/image/87cddd86e114b272403c343c808eb6c32fcd4c57',\n",
       "      'width': 640},\n",
       "     {'height': 320,\n",
       "      'url': 'https://i.scdn.co/image/a0a598e874a91998e8e82e51f091788cbbb461ff',\n",
       "      'width': 320},\n",
       "     {'height': 160,\n",
       "      'url': 'https://i.scdn.co/image/dd50dcaf96c8f80b741e882f0e6f7d6bc24b6bf6',\n",
       "      'width': 160}],\n",
       "    'name': 'Seven Lions',\n",
       "    'popularity': 67,\n",
       "    'type': 'artist',\n",
       "    'uri': 'spotify:artist:6fcTRFpz0yH79qSKfof7lp'},\n",
       "   {'external_urls': {'spotify': 'https://open.spotify.com/artist/4miIb633tznm49Pu5nWKqE'},\n",
       "    'followers': {'href': None, 'total': 142},\n",
       "    'genres': [],\n",
       "    'href': 'https://api.spotify.com/v1/artists/4miIb633tznm49Pu5nWKqE',\n",
       "    'id': '4miIb633tznm49Pu5nWKqE',\n",
       "    'images': [{'height': 640,\n",
       "      'url': 'https://i.scdn.co/image/3e10c1d5500a35ca1ef5346a2b1e7d885a72b6e3',\n",
       "      'width': 640},\n",
       "     {'height': 320,\n",
       "      'url': 'https://i.scdn.co/image/1ab85525a91498cf2937425d35be4b7b5a2997a4',\n",
       "      'width': 320},\n",
       "     {'height': 160,\n",
       "      'url': 'https://i.scdn.co/image/c994defa12bffa6aef765153deeea1153244e797',\n",
       "      'width': 160}],\n",
       "    'name': 'Seven Red Lions',\n",
       "    'popularity': 1,\n",
       "    'type': 'artist',\n",
       "    'uri': 'spotify:artist:4miIb633tznm49Pu5nWKqE'}],\n",
       "  'limit': 10,\n",
       "  'next': None,\n",
       "  'offset': 0,\n",
       "  'previous': None,\n",
       "  'total': 2}}"
      ]
     },
     "execution_count": 57,
     "metadata": {},
     "output_type": "execute_result"
    }
   ],
   "source": [
    "re"
   ]
  },
  {
   "cell_type": "code",
   "execution_count": 87,
   "metadata": {},
   "outputs": [],
   "source": [
    "\n",
    "pl=sp.playlist_tracks(playlist_id='00yyuRq6RrnMucv1ZbwSts')\n",
    "hard = []\n",
    "\n",
    "for i in range(len(pl['items'])):\n",
    "    hard.append(pl['items'][i]['track']['id'])\n"
   ]
  },
  {
   "cell_type": "code",
   "execution_count": 75,
   "metadata": {},
   "outputs": [
    {
     "data": {
      "text/plain": [
       "'1dlJQt9NLH5iFCIeiVz5lX'"
      ]
     },
     "execution_count": 75,
     "metadata": {},
     "output_type": "execute_result"
    }
   ],
   "source": [
    "pl['items'][0]['track']['id']"
   ]
  },
  {
   "cell_type": "code",
   "execution_count": 88,
   "metadata": {},
   "outputs": [
    {
     "data": {
      "text/plain": [
       "['1dlJQt9NLH5iFCIeiVz5lX',\n",
       " '2lXOBYnC7HANcUryoVQBio',\n",
       " '49y2VrMPdKHgjugZh4gqD9',\n",
       " '5W2QbqmtfXiz7US9DCl48l',\n",
       " '1XP0VR8KMArstV37bfzkt8',\n",
       " '6f0XqZKDhD5EOTziuKYyq1',\n",
       " '1dmr2oa0UctrJdynGPDQz8',\n",
       " '4MsymuRKMx79rQZuMU9Oln',\n",
       " '7jGxbprnsSTU5j5G0bMG9V',\n",
       " '3lmJq0owtVfHZug93YLil8',\n",
       " '1L7lC4k4xMrW5HfgVnOQoj',\n",
       " '3Oiauiojgokw9vWQvFmEoI',\n",
       " '4rX1D0bGnSgxcODvoseZEj',\n",
       " '1ndtFtce8tttyqn3uVRk6Q',\n",
       " '1DegLHuaZdLmOvhUgsNV9I',\n",
       " '2evQmH8nJCkZl1pJMDFhJI',\n",
       " '0z6BBM8lek2dzvnuIOX1Wx',\n",
       " '78TuvEVWXbcSwOOK0iGI6t',\n",
       " '22aAXa9Z4vUiJyK4kTUWyY',\n",
       " '0qwMoAstkTXlWE8lQJBRzY',\n",
       " '29Dvkvp7Wgd1VJdDvVJlvf',\n",
       " '1iOiwVWx7WggyyJA00Clj9',\n",
       " '1Q3tV9YnDJTY6SbCfZKXZz',\n",
       " '647UGNmkDjdhaL6q75dXLb',\n",
       " '4wysKuyN4GHPTRtOsbD981',\n",
       " '3HoOPtaBf2SmrPohseDUYJ',\n",
       " '0wO6oeF9kMp1FuIUe1AGWZ',\n",
       " '0uFnnurkT6KwgzfQ6KAvSi',\n",
       " '6YeUIhr2njkkCBaBBrRK9j',\n",
       " '5dAtKXyrQoQW054LZqJ5dP',\n",
       " '6yL8hFz4aME9PeZq9gaUQD',\n",
       " '5iVy5IsYaxWRIOXKWMIDH7',\n",
       " '3KKlsrWi8jw6SaeYF0YcHO',\n",
       " '1xcgIDOXF76pbrLK7hkgMf',\n",
       " '4o7Rszx7VVCzrCr1RPlPot',\n",
       " '0GO6DXSdMIIHTMdoUUfk5U',\n",
       " '1hBzQH4kOWxEQwYbKtZYlt',\n",
       " '5AMWgqiJqQYhaFuAZrL9MJ',\n",
       " '0qkSTDOUNmyPsMjTJ4jISd',\n",
       " '2quJfGTjAe7KtJ7o57U9UT',\n",
       " '7sSAk9HyJr4Kgd3reij1ys',\n",
       " '4sCY98KPBaGr4PTVtTlP04',\n",
       " '52wqMbmCqeTw37jd4zFAWr',\n",
       " '5eIgyAOFJRk0Fmx10uTyyq',\n",
       " '4dblKUfR2u2iQXCQ82awv6',\n",
       " '0IHSAULL6jRYaDURDyVY12',\n",
       " '2HRNRdM9n5CvcMYkvqPpI8',\n",
       " '1yPXSbA5tKMRlZq0cJrLWf',\n",
       " '5kXSIYvauj9U6cWCh5nBxt',\n",
       " '1R9e79Eg1HAExwBCx19wTv',\n",
       " '47RWkrRzEKNksQYXumbMlg',\n",
       " '7C7d8o5hn7cjJHbyx7pnu7',\n",
       " '6xEFQUQrRcWmbUlHIEJXIF',\n",
       " '4JHfB0tPjE38N5KTSaX39I']"
      ]
     },
     "execution_count": 88,
     "metadata": {},
     "output_type": "execute_result"
    }
   ],
   "source": [
    "hard"
   ]
  },
  {
   "cell_type": "code",
   "execution_count": null,
   "metadata": {},
   "outputs": [],
   "source": [
    "spotify:track:1dlJQt9NLH5iFCIeiVz5lX"
   ]
  },
  {
   "cell_type": "code",
   "execution_count": null,
   "metadata": {},
   "outputs": [],
   "source": [
    "spotify:track:2lXOBYnC7HANcUryoVQBio"
   ]
  },
  {
   "cell_type": "code",
   "execution_count": null,
   "metadata": {},
   "outputs": [],
   "source": []
  },
  {
   "cell_type": "code",
   "execution_count": null,
   "metadata": {},
   "outputs": [],
   "source": []
  },
  {
   "cell_type": "code",
   "execution_count": 51,
   "metadata": {},
   "outputs": [
    {
     "data": {
      "text/plain": [
       "{'external_urls': {'spotify': 'https://open.spotify.com/artist/6fcTRFpz0yH79qSKfof7lp'},\n",
       " 'followers': {'href': None, 'total': 377584},\n",
       " 'genres': ['dubstep',\n",
       "  'edm',\n",
       "  'electro house',\n",
       "  'future bass',\n",
       "  'melodic dubstep',\n",
       "  'pop dance',\n",
       "  'pop edm',\n",
       "  'progressive trance'],\n",
       " 'href': 'https://api.spotify.com/v1/artists/6fcTRFpz0yH79qSKfof7lp',\n",
       " 'id': '6fcTRFpz0yH79qSKfof7lp',\n",
       " 'images': [{'height': 640,\n",
       "   'url': 'https://i.scdn.co/image/87cddd86e114b272403c343c808eb6c32fcd4c57',\n",
       "   'width': 640},\n",
       "  {'height': 320,\n",
       "   'url': 'https://i.scdn.co/image/a0a598e874a91998e8e82e51f091788cbbb461ff',\n",
       "   'width': 320},\n",
       "  {'height': 160,\n",
       "   'url': 'https://i.scdn.co/image/dd50dcaf96c8f80b741e882f0e6f7d6bc24b6bf6',\n",
       "   'width': 160}],\n",
       " 'name': 'Seven Lions',\n",
       " 'popularity': 67,\n",
       " 'type': 'artist',\n",
       " 'uri': 'spotify:artist:6fcTRFpz0yH79qSKfof7lp'}"
      ]
     },
     "execution_count": 51,
     "metadata": {},
     "output_type": "execute_result"
    }
   ],
   "source": [
    "v1=list(re.values())\n",
    "v1[0]['items'][0]"
   ]
  },
  {
   "cell_type": "code",
   "execution_count": null,
   "metadata": {},
   "outputs": [],
   "source": [
    "dict_keys(['href', 'items', 'limit', 'next', 'offset', 'previous', 'total'])"
   ]
  },
  {
   "cell_type": "code",
   "execution_count": 53,
   "metadata": {},
   "outputs": [
    {
     "data": {
      "text/plain": [
       "[None]"
      ]
     },
     "execution_count": 53,
     "metadata": {},
     "output_type": "execute_result"
    }
   ],
   "source": [
    "audio = sp.audio_features('00yyuRq6RrnMucv1ZbwSts')\n",
    "audio"
   ]
  }
 ],
 "metadata": {
  "kernelspec": {
   "display_name": "Python 3",
   "language": "python",
   "name": "python3"
  },
  "language_info": {
   "codemirror_mode": {
    "name": "ipython",
    "version": 3
   },
   "file_extension": ".py",
   "mimetype": "text/x-python",
   "name": "python",
   "nbconvert_exporter": "python",
   "pygments_lexer": "ipython3",
   "version": "3.8.3"
  }
 },
 "nbformat": 4,
 "nbformat_minor": 4
}
